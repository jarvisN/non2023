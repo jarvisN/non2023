{
 "cells": [
  {
   "attachments": {},
   "cell_type": "markdown",
   "metadata": {},
   "source": [
    "Basic Python Programming 1\n",
    "\n",
    "Python คือภาษาการเขียนโปรแกรมระดับสูงที่ออกแบบมาให้ง่ายต่อการอ่านและเขียน มีฟังก์ชันและคลาสที่ใช้งานได้สะดวก"
   ]
  },
  {
   "attachments": {},
   "cell_type": "markdown",
   "metadata": {},
   "source": [
    "Data Types\n",
    "Python มีข้อมูลประเภทหลักๆ 5 ประเภท คือ\n",
    "\n",
    "Integers: ข้อมูลเป็นจำนวนเต็ม เช่น 1, 2, 3\n",
    "Floats: ข้อมูลเป็นจำนวนทศนิยม เช่น 1.2, 2.3, 3.4\n",
    "Strings: ข้อมูลเป็นข้อความหรือตัวอักษร เช่น 'Hello', 'Python'\n",
    "Booleans: ข้อมูลเป็นค่าทางตรรกศาสตร์ มีค่าคือ True หรือ False\n",
    "NoneType: ข้อมูลที่ไม่มีค่า มีค่าคือ None"
   ]
  },
  {
   "attachments": {},
   "cell_type": "markdown",
   "metadata": {},
   "source": [
    "1.2 Condition\n",
    "ใน Python มีการใช้งานสัญลักษณ์ทางตรรกศาสตร์ \n",
    " == (เท่ากับ)\n",
    " != (ไม่เท่ากับ)\n",
    " < (น้อยกว่า)\n",
    " > (มากกว่า)\n",
    " <= (น้อยกว่าหรือเท่ากับ)\n",
    " >= (มากกว่าหรือเท่ากับ)"
   ]
  },
  {
   "attachments": {},
   "cell_type": "markdown",
   "metadata": {},
   "source": [
    "1.3 Loop\n",
    "Loop ใน Python ใช้สำหรับการทำซ้ำโค้ดบางส่วน เช่น for loop และ while loop"
   ]
  },
  {
   "attachments": {},
   "cell_type": "markdown",
   "metadata": {},
   "source": [
    "1.4 Function\n",
    "Function ใน Python ใช้สำหรับการแบ่งโค้ดออกเป็นส่วนๆ เล็กๆ ที่สามารถนำมาใช้ซ้ำได้ และทำให้โค้ดมีความกระชับและง่ายต่อการบำรุงรักษา"
   ]
  },
  {
   "cell_type": "code",
   "execution_count": null,
   "metadata": {},
   "outputs": [],
   "source": [
    "#Data Types\n",
    "\n",
    "# Integers\n",
    "a = 5\n",
    "print(type(a))\n",
    "\n",
    "# Floats\n",
    "b = 5.0\n",
    "print(type(b))\n",
    "\n",
    "# Strings\n",
    "c = 'Hello Python'\n",
    "print(type(c))\n",
    "\n",
    "# Booleans\n",
    "d = True\n",
    "print(type(d))\n",
    "\n",
    "# NoneType\n",
    "e = None\n",
    "print(type(e))\n"
   ]
  },
  {
   "cell_type": "code",
   "execution_count": null,
   "metadata": {},
   "outputs": [],
   "source": [
    "# Condition\n",
    "\n",
    "x = 5\n",
    "y = 10\n",
    "\n",
    "# Check if x is equal to y\n",
    "print(x == y)\n",
    "\n",
    "# Check if x is not equal to y\n",
    "print(x != y)\n",
    "\n",
    "# Check if x is less than y\n",
    "print(x < y)\n",
    "\n",
    "# Check if x is greater than y\n",
    "print(x > y)\n",
    "\n",
    "# Check if x is less than or equal to y\n",
    "print(x <= y)\n",
    "\n",
    "# Check if x is greater than or equal to y\n",
    "print(x >= y)\n"
   ]
  },
  {
   "cell_type": "code",
   "execution_count": null,
   "metadata": {},
   "outputs": [],
   "source": [
    "# Loop\n",
    "\n",
    "# For loop\n",
    "for i in range(5):\n",
    "    print(i)\n",
    "\n",
    "# While loop\n",
    "i = 0\n",
    "while i < 5:\n",
    "    print(i)\n",
    "    i += 1\n"
   ]
  },
  {
   "cell_type": "code",
   "execution_count": null,
   "metadata": {},
   "outputs": [],
   "source": [
    "# Function\n",
    "\n",
    "# Define a function\n",
    "def greet(name):\n",
    "    print(f'Hello, {name}!')\n",
    "\n",
    "# Call the function\n",
    "greet('Python')"
   ]
  },
  {
   "attachments": {},
   "cell_type": "markdown",
   "metadata": {},
   "source": [
    "จะทำความเข้าใจเรื่องการใช้งานข้อมูลประเภท list, tuple, set, และ dictionary ใน Python\n",
    "\n",
    "1.1 List, Tuple, Set, Dictionary\n",
    "List, tuple, และ set ใน Python เป็นข้อมูลประเภทที่เก็บข้อมูลหลายๆ ค่าในตัวแปรเดียว แต่ละประเภทมีคุณสมบัติและวิธีการใช้งานที่แตกต่างกัน:\n",
    "\n",
    "List: เป็นข้อมูลประเภทที่เปลี่ยนแปลงได้ และเรียงลำดับ\n",
    "Tuple: เป็นข้อมูลประเภทที่ไม่สามารถเปลี่ยนแปลงได้ และเรียงลำดับ\n",
    "Set: เป็นข้อมูลประเภทที่ไม่มีการเรียงลำดับ และไม่มีข้อมูลซ้ำ\n",
    "Dictionary: เป็นข้อมูลประเภทที่เก็บข้อมูลในรูปแบบ key-value pair"
   ]
  },
  {
   "cell_type": "code",
   "execution_count": null,
   "metadata": {},
   "outputs": [],
   "source": [
    "# List\n",
    "list_example = [1, 2, 3]\n",
    "print(type(list_example))\n",
    "\n",
    "# Tuple\n",
    "\n",
    "tuple_example = (1, 2, 3)\n",
    "print(type(tuple_example))\n",
    "\n",
    "# Set\n",
    "set_example = {1, 2, 3}\n",
    "print(type(set_example))\n",
    "\n",
    "# Dictionary\n",
    "dict_example = {'key1': 'value1', 'key2': 'value2'}\n",
    "print(type(dict_example))\n"
   ]
  },
  {
   "attachments": {},
   "cell_type": "markdown",
   "metadata": {},
   "source": [
    "Class Function\n",
    "\n",
    "..."
   ]
  }
 ],
 "metadata": {
  "kernelspec": {
   "display_name": "nn",
   "language": "python",
   "name": "python3"
  },
  "language_info": {
   "name": "python",
   "version": "3.11.1"
  },
  "orig_nbformat": 4
 },
 "nbformat": 4,
 "nbformat_minor": 2
}
