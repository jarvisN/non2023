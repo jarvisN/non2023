{
 "cells": [
  {
   "cell_type": "code",
   "execution_count": 1,
   "metadata": {},
   "outputs": [
    {
     "name": "stdout",
     "output_type": "stream",
     "text": [
      "test\n"
     ]
    }
   ],
   "source": [
    "print(\"test\")"
   ]
  },
  {
   "cell_type": "code",
   "execution_count": 3,
   "metadata": {},
   "outputs": [],
   "source": [
    "import cv2\n",
    "\n",
    "# Load the Haar Cascade classifier for face detection\n",
    "face_cascade = cv2.CascadeClassifier(cv2.data.haarcascades + 'haarcascade_frontalface_default.xml')\n",
    "\n",
    "# Initialize the webcam\n",
    "cap = cv2.VideoCapture(0)\n",
    "\n",
    "while True:\n",
    "    # Read a frame from the webcam\n",
    "    ret, frame = cap.read()\n",
    "\n",
    "    # Convert the frame to grayscale for face detection\n",
    "    gray = cv2.cvtColor(frame, cv2.COLOR_BGR2GRAY)\n",
    "\n",
    "    # Detect faces in the frame\n",
    "    faces = face_cascade.detectMultiScale(gray, scaleFactor=1.1, minNeighbors=5, minSize=(30, 30))\n",
    "\n",
    "    # Draw rectangles around the detected faces\n",
    "    for (x, y, w, h) in faces:\n",
    "        cv2.rectangle(frame, (x, y), (x + w, y + h), (0, 255, 0), 3)\n",
    "\n",
    "    # Display the frame with face detection\n",
    "    cv2.imshow('Face Recognition', frame)\n",
    "\n",
    "    # Exit the loop when the 'q' key is pressed\n",
    "    if cv2.waitKey(1) & 0xFF == ord('q'):\n",
    "        break\n",
    "\n",
    "# Release the webcam and close all OpenCV windows\n",
    "cap.release()\n",
    "cv2.destroyAllWindows()\n"
   ]
  },
  {
   "cell_type": "code",
   "execution_count": 4,
   "metadata": {},
   "outputs": [
    {
     "name": "stdout",
     "output_type": "stream",
     "text": [
      "Model: \"sequential\"\n",
      "_________________________________________________________________\n",
      " Layer (type)                Output Shape              Param #   \n",
      "=================================================================\n",
      " conv2d (Conv2D)             (None, 222, 222, 32)      896       \n",
      "                                                                 \n",
      " max_pooling2d (MaxPooling2  (None, 111, 111, 32)      0         \n",
      " D)                                                              \n",
      "                                                                 \n",
      " conv2d_1 (Conv2D)           (None, 109, 109, 64)      18496     \n",
      "                                                                 \n",
      " max_pooling2d_1 (MaxPoolin  (None, 54, 54, 64)        0         \n",
      " g2D)                                                            \n",
      "                                                                 \n",
      " conv2d_2 (Conv2D)           (None, 52, 52, 128)       73856     \n",
      "                                                                 \n",
      " max_pooling2d_2 (MaxPoolin  (None, 26, 26, 128)       0         \n",
      " g2D)                                                            \n",
      "                                                                 \n",
      " conv2d_3 (Conv2D)           (None, 24, 24, 128)       147584    \n",
      "                                                                 \n",
      " max_pooling2d_3 (MaxPoolin  (None, 12, 12, 128)       0         \n",
      " g2D)                                                            \n",
      "                                                                 \n",
      " flatten (Flatten)           (None, 18432)             0         \n",
      "                                                                 \n",
      " dense (Dense)               (None, 512)               9437696   \n",
      "                                                                 \n",
      " dense_1 (Dense)             (None, 1)                 513       \n",
      "                                                                 \n",
      "=================================================================\n",
      "Total params: 9679041 (36.92 MB)\n",
      "Trainable params: 9679041 (36.92 MB)\n",
      "Non-trainable params: 0 (0.00 Byte)\n",
      "_________________________________________________________________\n"
     ]
    }
   ],
   "source": [
    "import tensorflow as tf\n",
    "from tensorflow.keras.models import Sequential\n",
    "from tensorflow.keras.layers import Conv2D, MaxPooling2D, Flatten, Dense\n",
    "\n",
    "# สร้างโมเดล\n",
    "model = Sequential()\n",
    "\n",
    "# เพิ่มชั้น CNN\n",
    "model.add(Conv2D(32, (3, 3), activation='relu', input_shape=(224, 224, 3)))\n",
    "model.add(MaxPooling2D((2, 2)))\n",
    "model.add(Conv2D(64, (3, 3), activation='relu'))\n",
    "model.add(MaxPooling2D((2, 2)))\n",
    "model.add(Conv2D(128, (3, 3), activation='relu'))\n",
    "model.add(MaxPooling2D((2, 2)))\n",
    "model.add(Conv2D(128, (3, 3), activation='relu'))\n",
    "model.add(MaxPooling2D((2, 2)))\n",
    "\n",
    "# ปรับขนาดภาพเป็นเวกเตอร์\n",
    "model.add(Flatten())\n",
    "\n",
    "# เพิ่มชั้น Dense\n",
    "model.add(Dense(512, activation='relu'))\n",
    "model.add(Dense(1, activation='sigmoid'))\n",
    "\n",
    "# คอมไพล์โมเดล\n",
    "model.compile(loss='binary_crossentropy', optimizer='adam', metrics=['accuracy'])\n",
    "\n",
    "# แสดงโครงสร้างของโมเดล\n",
    "model.summary()\n"
   ]
  },
  {
   "cell_type": "code",
   "execution_count": 7,
   "metadata": {},
   "outputs": [
    {
     "name": "stdout",
     "output_type": "stream",
     "text": [
      " Volume in drive C is Windows\n",
      " Volume Serial Number is 0223-FD36\n",
      "\n",
      " Directory of c:\\Users\\titiwutsap\\Desktop\\devNon\\non2023\\python\\20_NonFace\n",
      "\n",
      "18/10/2023  11:52    <DIR>          .\n",
      "18/10/2023  11:52    <DIR>          ..\n",
      "04/10/2023  10:59             6,148 .DS_Store\n",
      "18/10/2023  11:49             1,427 createFaceModel.py\n",
      "04/10/2023  10:59    <DIR>          images\n",
      "04/10/2023  10:59               128 known_face_encodings.npy\n",
      "04/10/2023  10:59               128 known_face_names.npy\n",
      "18/10/2023  14:28             9,740 test.ipynb\n",
      "04/10/2023  10:59               878 test_cam.py\n",
      "04/10/2023  10:59               991 test1.py\n",
      "04/10/2023  10:59               997 test2.py\n",
      "04/10/2023  10:59               215 test3.py\n",
      "04/10/2023  10:59             2,272 test4.py\n",
      "04/10/2023  10:59             1,770 test4_1.py\n",
      "18/10/2023  11:27               995 test5.py\n",
      "18/10/2023  11:30             1,819 test5_1.py\n",
      "              13 File(s)         27,508 bytes\n",
      "               3 Dir(s)   4,760,375,296 bytes free\n"
     ]
    }
   ],
   "source": [
    "%ls"
   ]
  },
  {
   "cell_type": "code",
   "execution_count": 8,
   "metadata": {},
   "outputs": [],
   "source": [
    "!cd images"
   ]
  },
  {
   "cell_type": "code",
   "execution_count": 10,
   "metadata": {},
   "outputs": [
    {
     "name": "stdout",
     "output_type": "stream",
     "text": [
      " Volume in drive C is Windows\n",
      " Volume Serial Number is 0223-FD36\n",
      "\n",
      " Directory of c:\\Users\\titiwutsap\\Desktop\\devNon\\non2023\\python\\20_NonFace\n",
      "\n",
      "18/10/2023  11:52    <DIR>          .\n",
      "18/10/2023  11:52    <DIR>          ..\n",
      "04/10/2023  10:59             6,148 .DS_Store\n",
      "18/10/2023  11:49             1,427 createFaceModel.py\n",
      "04/10/2023  10:59    <DIR>          images\n",
      "04/10/2023  10:59               128 known_face_encodings.npy\n",
      "04/10/2023  10:59               128 known_face_names.npy\n",
      "18/10/2023  14:30             8,279 test.ipynb\n",
      "04/10/2023  10:59               878 test_cam.py\n",
      "04/10/2023  10:59               991 test1.py\n",
      "04/10/2023  10:59               997 test2.py\n",
      "04/10/2023  10:59               215 test3.py\n",
      "04/10/2023  10:59             2,272 test4.py\n",
      "04/10/2023  10:59             1,770 test4_1.py\n",
      "18/10/2023  11:27               995 test5.py\n",
      "18/10/2023  11:30             1,819 test5_1.py\n",
      "              13 File(s)         26,047 bytes\n",
      "               3 Dir(s)   4,759,715,840 bytes free\n"
     ]
    }
   ],
   "source": [
    "%ls "
   ]
  },
  {
   "cell_type": "code",
   "execution_count": 12,
   "metadata": {},
   "outputs": [
    {
     "data": {
      "text/plain": [
       "'c:\\\\Users\\\\titiwutsap\\\\Desktop\\\\devNon\\\\non2023\\\\python\\\\20_NonFace'"
      ]
     },
     "execution_count": 12,
     "metadata": {},
     "output_type": "execute_result"
    }
   ],
   "source": [
    "%pwd"
   ]
  },
  {
   "cell_type": "code",
   "execution_count": null,
   "metadata": {},
   "outputs": [],
   "source": []
  }
 ],
 "metadata": {
  "kernelspec": {
   "display_name": "Python 3.10.5 64-bit",
   "language": "python",
   "name": "python3"
  },
  "language_info": {
   "codemirror_mode": {
    "name": "ipython",
    "version": 3
   },
   "file_extension": ".py",
   "mimetype": "text/x-python",
   "name": "python",
   "nbconvert_exporter": "python",
   "pygments_lexer": "ipython3",
   "version": "3.10.5"
  },
  "orig_nbformat": 4,
  "vscode": {
   "interpreter": {
    "hash": "4e6937a8d1412ca38628a496462b54da8b734288e9fd3be152866b915414a400"
   }
  }
 },
 "nbformat": 4,
 "nbformat_minor": 2
}
